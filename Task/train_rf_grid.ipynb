{
 "cells": [
  {
   "cell_type": "code",
   "execution_count": 1,
   "id": "95c30fcb",
   "metadata": {},
   "outputs": [],
   "source": [
    "import sys\n",
    "import os\n",
    "\n",
    "# 프로젝트 최상위 디렉터리를 추가\n",
    "project_path = os.path.abspath(os.path.join(os.getcwd(), '..'))\n",
    "sys.path.append(project_path)"
   ]
  },
  {
   "cell_type": "code",
   "execution_count": 2,
   "id": "2af30f3d",
   "metadata": {
    "ExecuteTime": {
     "end_time": "2024-09-06T12:34:14.564656Z",
     "start_time": "2024-09-06T12:34:14.554722Z"
    }
   },
   "outputs": [],
   "source": [
    "import mne\n",
    "import numpy as np\n",
    "import pandas as pd\n",
    "from sklearn.preprocessing import StandardScaler\n",
    "from sklearn.ensemble import RandomForestClassifier\n",
    "from sklearn.model_selection import GridSearchCV\n",
    "from sklearn.metrics import classification_report, accuracy_score, roc_auc_score\n",
    "import matplotlib.pyplot as plt\n",
    "from Preprocessing.feature_extraction import load_eeg_data, compute_band_power, extract_features\n",
    "mne.set_log_level('error')"
   ]
  },
  {
   "cell_type": "code",
   "execution_count": 3,
   "id": "a175154a",
   "metadata": {
    "ExecuteTime": {
     "end_time": "2024-09-06T12:34:14.577228Z",
     "start_time": "2024-09-06T12:34:14.567150Z"
    }
   },
   "outputs": [],
   "source": [
    "def pipeline(base_path):\n",
    "    train_dir = base_path + 'train4ml.csv'\n",
    "    test_dir = base_path + 'test4ml.csv'\n",
    "    val_dir = base_path + 'val4ml.csv'\n",
    "    data_train, label_train = load_eeg_data(train_dir)\n",
    "    data_val, label_val = load_eeg_data(val_dir)   \n",
    "    data_test, label_test = load_eeg_data(test_dir)\n",
    "    \n",
    "    train_X = data_train\n",
    "    train_y = label_train\n",
    "    val_X = data_val\n",
    "    val_y = label_val\n",
    "    test_X = data_test\n",
    "    test_y = label_test\n",
    "    \n",
    "    # Scaling\n",
    "    scaler = StandardScaler()\n",
    "    train_X = scaler.fit_transform(train_X)\n",
    "    val_X = scaler.transform(val_X)\n",
    "    test_X = scaler.transform(test_X)\n",
    "    \n",
    "    # Scaling\n",
    "    scaler = StandardScaler()\n",
    "    train_X = scaler.fit_transform(train_X)\n",
    "    val_X = scaler.transform(val_X)\n",
    "    test_X = scaler.transform(test_X)\n",
    "    \n",
    "    # Train through GridSearchCV\n",
    "    rf = RandomForestClassifier()\n",
    "    param_grid = {\n",
    "        'n_estimators': [100, 200, 300],  # 트리의 개수\n",
    "        'max_depth': [10, 20, None],  # 트리의 최대 깊이\n",
    "        'min_samples_split': [2, 5, 10],  # 분할을 위한 최소 샘플 수\n",
    "        'min_samples_leaf': [1, 2, 4],  # 리프 노드의 최소 샘플 수\n",
    "        'max_features': ['sqrt', 'log2', None]  # 고려할 최대 피처 수\n",
    "    }\n",
    "\n",
    "    grid_search = GridSearchCV(rf, param_grid, cv=5, scoring='accuracy', verbose=2, n_jobs=-1)\n",
    "    grid_search.fit(train_X, train_y)  # Fit the model on the training data\n",
    "\n",
    "    # Print the best parameters and the best score from the validation process\n",
    "    print(\"Best parameters found: \", grid_search.best_params_)\n",
    "    print(\"Best cross-validation accuracy: {:.2f}%\".format(grid_search.best_score_ * 100))\n",
    "    \n",
    "    # (Validation) Use the best model to make predictions on the validation set\n",
    "    best_model = grid_search.best_estimator_\n",
    "    val_predictions = best_model.predict(val_X)\n",
    "\n",
    "    # Evaluate the model on the validation set\n",
    "    print(\"\\nValidation Set Performance:\")\n",
    "    print(\"Validation Accuracy: {:.2f}%\".format(accuracy_score(val_y, val_predictions) * 100))\n",
    "    print(\"Validation ROC-AUC Score: {:.2f}\".format(roc_auc_score(val_y, val_predictions)))\n",
    "    print(\"\\nValidation Classification Report:\")\n",
    "    print(classification_report(val_y, val_predictions))\n",
    "    \n",
    "    # (Test) After validation, use the best model to predict on the test set\n",
    "    test_predictions = best_model.predict(test_X)\n",
    "\n",
    "    # Evaluate the model on the test set\n",
    "    print(\"\\nTest Set Performance:\")\n",
    "    print(\"Test Accuracy: {:.2f}%\".format(accuracy_score(test_y, test_predictions) * 100))\n",
    "    print(\"Test ROC-AUC Score: {:.2f}\".format(roc_auc_score(test_y, test_predictions)))\n",
    "    print(\"\\nTest Classification Report:\")\n",
    "    print(classification_report(test_y, test_predictions))"
   ]
  },
  {
   "cell_type": "code",
   "execution_count": 4,
   "id": "2ad3f3f5",
   "metadata": {
    "ExecuteTime": {
     "end_time": "2024-09-06T12:34:14.581406Z",
     "start_time": "2024-09-06T12:34:14.578395Z"
    }
   },
   "outputs": [],
   "source": [
    "# Load data\n",
    "base_path_1 = \"G:/공유 드라이브/4N_PKNU/Project/EEG-LLM/Dataset/subject 1 data (k3b)/down sampling X ver/label15/4ml/\"\n",
    "base_path_2 = \"G:/공유 드라이브/4N_PKNU/Project/EEG-LLM/Dataset/subject 1 data (k3b)/down sampling X ver/label25/4ml/\"\n",
    "base_path_3 = \"G:/공유 드라이브/4N_PKNU/Project/EEG-LLM/Dataset/subject 1 data (k3b)/down sampling X ver/label35/4ml/\"\n",
    "base_path_4 = \"G:/공유 드라이브/4N_PKNU/Project/EEG-LLM/Dataset/subject 1 data (k3b)/down sampling X ver/label45/4ml/\"\n",
    "window_size = 1000"
   ]
  },
  {
   "cell_type": "code",
   "execution_count": 5,
   "id": "7e72b6a2",
   "metadata": {
    "ExecuteTime": {
     "end_time": "2024-09-06T12:34:34.496532Z",
     "start_time": "2024-09-06T12:34:14.582325Z"
    }
   },
   "outputs": [
    {
     "name": "stdout",
     "output_type": "stream",
     "text": [
      "Fitting 5 folds for each of 243 candidates, totalling 1215 fits\n",
      "Best parameters found:  {'max_depth': 10, 'max_features': 'sqrt', 'min_samples_leaf': 2, 'min_samples_split': 10, 'n_estimators': 100}\n",
      "Best cross-validation accuracy: 88.05%\n",
      "\n",
      "Validation Set Performance:\n",
      "Validation Accuracy: 66.67%\n",
      "Validation ROC-AUC Score: 0.66\n",
      "\n",
      "Validation Classification Report:\n",
      "              precision    recall  f1-score   support\n",
      "\n",
      "           1       0.69      0.53      0.60        17\n",
      "           5       0.65      0.79      0.71        19\n",
      "\n",
      "    accuracy                           0.67        36\n",
      "   macro avg       0.67      0.66      0.66        36\n",
      "weighted avg       0.67      0.67      0.66        36\n",
      "\n",
      "\n",
      "Test Set Performance:\n",
      "Test Accuracy: 83.33%\n",
      "Test ROC-AUC Score: 0.83\n",
      "\n",
      "Test Classification Report:\n",
      "              precision    recall  f1-score   support\n",
      "\n",
      "           1       0.82      0.82      0.82        17\n",
      "           5       0.84      0.84      0.84        19\n",
      "\n",
      "    accuracy                           0.83        36\n",
      "   macro avg       0.83      0.83      0.83        36\n",
      "weighted avg       0.83      0.83      0.83        36\n",
      "\n"
     ]
    }
   ],
   "source": [
    "train_rf_1 = pipeline(base_path_1)"
   ]
  },
  {
   "cell_type": "code",
   "execution_count": 6,
   "id": "268089de",
   "metadata": {
    "ExecuteTime": {
     "end_time": "2024-09-06T12:34:54.375382Z",
     "start_time": "2024-09-06T12:34:34.498210Z"
    }
   },
   "outputs": [
    {
     "name": "stdout",
     "output_type": "stream",
     "text": [
      "Fitting 5 folds for each of 243 candidates, totalling 1215 fits\n",
      "Best parameters found:  {'max_depth': 20, 'max_features': 'sqrt', 'min_samples_leaf': 1, 'min_samples_split': 10, 'n_estimators': 200}\n",
      "Best cross-validation accuracy: 79.65%\n",
      "\n",
      "Validation Set Performance:\n",
      "Validation Accuracy: 83.33%\n",
      "Validation ROC-AUC Score: 0.83\n",
      "\n",
      "Validation Classification Report:\n",
      "              precision    recall  f1-score   support\n",
      "\n",
      "           2       0.81      0.89      0.85        19\n",
      "           5       0.87      0.76      0.81        17\n",
      "\n",
      "    accuracy                           0.83        36\n",
      "   macro avg       0.84      0.83      0.83        36\n",
      "weighted avg       0.84      0.83      0.83        36\n",
      "\n",
      "\n",
      "Test Set Performance:\n",
      "Test Accuracy: 88.89%\n",
      "Test ROC-AUC Score: 0.89\n",
      "\n",
      "Test Classification Report:\n",
      "              precision    recall  f1-score   support\n",
      "\n",
      "           2       0.89      0.89      0.89        18\n",
      "           5       0.89      0.89      0.89        18\n",
      "\n",
      "    accuracy                           0.89        36\n",
      "   macro avg       0.89      0.89      0.89        36\n",
      "weighted avg       0.89      0.89      0.89        36\n",
      "\n"
     ]
    }
   ],
   "source": [
    "train_rf_2 = pipeline(base_path_2)"
   ]
  },
  {
   "cell_type": "code",
   "execution_count": 7,
   "id": "035abe05",
   "metadata": {
    "ExecuteTime": {
     "end_time": "2024-09-06T12:35:15.097266Z",
     "start_time": "2024-09-06T12:34:54.376044Z"
    }
   },
   "outputs": [
    {
     "name": "stdout",
     "output_type": "stream",
     "text": [
      "Fitting 5 folds for each of 243 candidates, totalling 1215 fits\n",
      "Best parameters found:  {'max_depth': 20, 'max_features': 'log2', 'min_samples_leaf': 2, 'min_samples_split': 5, 'n_estimators': 200}\n",
      "Best cross-validation accuracy: 79.57%\n",
      "\n",
      "Validation Set Performance:\n",
      "Validation Accuracy: 75.00%\n",
      "Validation ROC-AUC Score: 0.74\n",
      "\n",
      "Validation Classification Report:\n",
      "              precision    recall  f1-score   support\n",
      "\n",
      "           3       0.67      0.71      0.69        14\n",
      "           5       0.81      0.77      0.79        22\n",
      "\n",
      "    accuracy                           0.75        36\n",
      "   macro avg       0.74      0.74      0.74        36\n",
      "weighted avg       0.75      0.75      0.75        36\n",
      "\n",
      "\n",
      "Test Set Performance:\n",
      "Test Accuracy: 61.11%\n",
      "Test ROC-AUC Score: 0.61\n",
      "\n",
      "Test Classification Report:\n",
      "              precision    recall  f1-score   support\n",
      "\n",
      "           3       0.58      0.83      0.68        18\n",
      "           5       0.70      0.39      0.50        18\n",
      "\n",
      "    accuracy                           0.61        36\n",
      "   macro avg       0.64      0.61      0.59        36\n",
      "weighted avg       0.64      0.61      0.59        36\n",
      "\n"
     ]
    }
   ],
   "source": [
    "train_rf_3 = pipeline(base_path_3)"
   ]
  },
  {
   "cell_type": "code",
   "execution_count": 8,
   "id": "8d5be2bc",
   "metadata": {
    "ExecuteTime": {
     "end_time": "2024-09-06T12:35:35.798916Z",
     "start_time": "2024-09-06T12:35:15.098027Z"
    }
   },
   "outputs": [
    {
     "name": "stdout",
     "output_type": "stream",
     "text": [
      "Fitting 5 folds for each of 243 candidates, totalling 1215 fits\n",
      "Best parameters found:  {'max_depth': 20, 'max_features': 'sqrt', 'min_samples_leaf': 4, 'min_samples_split': 2, 'n_estimators': 100}\n",
      "Best cross-validation accuracy: 74.94%\n",
      "\n",
      "Validation Set Performance:\n",
      "Validation Accuracy: 72.22%\n",
      "Validation ROC-AUC Score: 0.70\n",
      "\n",
      "Validation Classification Report:\n",
      "              precision    recall  f1-score   support\n",
      "\n",
      "           4       0.73      0.53      0.62        15\n",
      "           5       0.72      0.86      0.78        21\n",
      "\n",
      "    accuracy                           0.72        36\n",
      "   macro avg       0.72      0.70      0.70        36\n",
      "weighted avg       0.72      0.72      0.71        36\n",
      "\n",
      "\n",
      "Test Set Performance:\n",
      "Test Accuracy: 77.78%\n",
      "Test ROC-AUC Score: 0.78\n",
      "\n",
      "Test Classification Report:\n",
      "              precision    recall  f1-score   support\n",
      "\n",
      "           4       0.85      0.77      0.81        22\n",
      "           5       0.69      0.79      0.73        14\n",
      "\n",
      "    accuracy                           0.78        36\n",
      "   macro avg       0.77      0.78      0.77        36\n",
      "weighted avg       0.79      0.78      0.78        36\n",
      "\n"
     ]
    }
   ],
   "source": [
    "train_rf_4 = pipeline(base_path_4)"
   ]
  }
 ],
 "metadata": {
  "kernelspec": {
   "display_name": "Python 3 (ipykernel)",
   "language": "python",
   "name": "python3"
  },
  "language_info": {
   "codemirror_mode": {
    "name": "ipython",
    "version": 3
   },
   "file_extension": ".py",
   "mimetype": "text/x-python",
   "name": "python",
   "nbconvert_exporter": "python",
   "pygments_lexer": "ipython3",
   "version": "3.12.2"
  }
 },
 "nbformat": 4,
 "nbformat_minor": 5
}
