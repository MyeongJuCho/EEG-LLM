{
 "cells": [
  {
   "cell_type": "code",
   "execution_count": 1,
   "id": "da427eb1",
   "metadata": {},
   "outputs": [],
   "source": [
    "import sys\n",
    "import os\n",
    "\n",
    "# 프로젝트 최상위 디렉터리를 추가\n",
    "project_path = os.path.abspath(os.path.join(os.getcwd(), '..'))\n",
    "sys.path.append(project_path)"
   ]
  },
  {
   "cell_type": "code",
   "execution_count": 2,
   "id": "104fc549",
   "metadata": {
    "ExecuteTime": {
     "end_time": "2024-09-06T12:06:45.746054Z",
     "start_time": "2024-09-06T12:06:45.740653Z"
    }
   },
   "outputs": [],
   "source": [
    "import mne\n",
    "import numpy as np\n",
    "import pandas as pd\n",
    "from sklearn.preprocessing import StandardScaler\n",
    "from sklearn.neural_network import MLPClassifier\n",
    "from sklearn.model_selection import GridSearchCV\n",
    "from sklearn.metrics import classification_report, accuracy_score, roc_auc_score\n",
    "import matplotlib.pyplot as plt\n",
    "from Preprocessing.feature_extraction import load_eeg_data, compute_band_power, extract_features\n",
    "import warnings\n",
    "mne.set_log_level('error')\n",
    "warnings.filterwarnings('ignore')"
   ]
  },
  {
   "cell_type": "code",
   "execution_count": 3,
   "id": "51333972",
   "metadata": {
    "ExecuteTime": {
     "end_time": "2024-09-06T12:06:45.758360Z",
     "start_time": "2024-09-06T12:06:45.749277Z"
    }
   },
   "outputs": [],
   "source": [
    "def pipeline(base_path):\n",
    "    train_dir = base_path + 'train4ml.csv'\n",
    "    test_dir = base_path + 'test4ml.csv'\n",
    "    val_dir = base_path + 'val4ml.csv'\n",
    "    data_train, label_train = load_eeg_data(train_dir)\n",
    "    data_val, label_val = load_eeg_data(val_dir)   \n",
    "    data_test, label_test = load_eeg_data(test_dir)\n",
    "    \n",
    "    train_X = data_train\n",
    "    train_y = label_train\n",
    "    val_X = data_val\n",
    "    val_y = label_val\n",
    "    test_X = data_test\n",
    "    test_y = label_test\n",
    "    \n",
    "    # Scaling\n",
    "    scaler = StandardScaler()\n",
    "    train_X = scaler.fit_transform(train_X)\n",
    "    val_X = scaler.transform(val_X)\n",
    "    test_X = scaler.transform(test_X)\n",
    "    \n",
    "    # Train through GridSearchCV\n",
    "    mlp = MLPClassifier()\n",
    "    param_grid = {\n",
    "    'hidden_layer_sizes': [(100,), (50, 50), (30, 30, 30)],  # 은닉층 구조\n",
    "    'activation': ['relu', 'tanh'],  # 활성화 함수\n",
    "    'solver': ['adam', 'sgd'],  # 최적화 알고리즘\n",
    "    'alpha': [0.0001, 0.001, 0.01],  # L2 정규화 파라미터\n",
    "    'learning_rate': ['constant', 'adaptive'],  # 학습률 조정 방식\n",
    "    'max_iter': [200, 300, 500]  # 최대 반복 횟수\n",
    "}\n",
    "\n",
    "    grid_search = GridSearchCV(mlp, param_grid, cv=5, scoring='accuracy', verbose=2, n_jobs=-1)\n",
    "    grid_search.fit(train_X, train_y)  # Fit the model on the training data\n",
    "\n",
    "    # Print the best parameters and the best score from the validation process\n",
    "    print(\"Best parameters found: \", grid_search.best_params_)\n",
    "    print(\"Best cross-validation accuracy: {:.2f}%\".format(grid_search.best_score_ * 100))\n",
    "    \n",
    "    # (Validation) Use the best model to make predictions on the validation set\n",
    "    best_model = grid_search.best_estimator_\n",
    "    val_predictions = best_model.predict(val_X)\n",
    "\n",
    "    # Evaluate the model on the validation set\n",
    "    print(\"\\nValidation Set Performance:\")\n",
    "    print(\"Validation Accuracy: {:.2f}%\".format(accuracy_score(val_y, val_predictions) * 100))\n",
    "    print(\"Validation ROC-AUC Score: {:.2f}\".format(roc_auc_score(val_y, val_predictions)))\n",
    "    print(\"\\nValidation Classification Report:\")\n",
    "    print(classification_report(val_y, val_predictions))\n",
    "    \n",
    "    # (Test) After validation, use the best model to predict on the test set\n",
    "    test_predictions = best_model.predict(test_X)\n",
    "\n",
    "    # Evaluate the model on the test set\n",
    "    print(\"\\nTest Set Performance:\")\n",
    "    print(\"Test Accuracy: {:.2f}%\".format(accuracy_score(test_y, test_predictions) * 100))\n",
    "    print(\"Test ROC-AUC Score: {:.2f}\".format(roc_auc_score(test_y, test_predictions)))\n",
    "    print(\"\\nTest Classification Report:\")\n",
    "    print(classification_report(test_y, test_predictions))"
   ]
  },
  {
   "cell_type": "code",
   "execution_count": 6,
   "id": "f9887fb6",
   "metadata": {
    "ExecuteTime": {
     "end_time": "2024-09-06T12:06:45.763178Z",
     "start_time": "2024-09-06T12:06:45.760304Z"
    }
   },
   "outputs": [],
   "source": [
    "# Load data\n",
    "base_path_1 = \"G:/공유 드라이브/4N_PKNU/Project/EEG-LLM/Dataset/subject 1 data (k3b)/down sampling X ver/label15/4ml/\"\n",
    "base_path_2 = \"G:/공유 드라이브/4N_PKNU/Project/EEG-LLM/Dataset/subject 1 data (k3b)/down sampling X ver/label25/4ml/\"\n",
    "base_path_3 = \"G:/공유 드라이브/4N_PKNU/Project/EEG-LLM/Dataset/subject 1 data (k3b)/down sampling X ver/label35/4ml/\"\n",
    "base_path_4 = \"G:/공유 드라이브/4N_PKNU/Project/EEG-LLM/Dataset/subject 1 data (k3b)/down sampling X ver/label45/4ml/\""
   ]
  },
  {
   "cell_type": "code",
   "execution_count": 7,
   "id": "c442bf43",
   "metadata": {
    "ExecuteTime": {
     "end_time": "2024-09-06T12:07:00.521323Z",
     "start_time": "2024-09-06T12:06:45.764351Z"
    }
   },
   "outputs": [
    {
     "name": "stdout",
     "output_type": "stream",
     "text": [
      "Fitting 5 folds for each of 216 candidates, totalling 1080 fits\n",
      "Best parameters found:  {'activation': 'relu', 'alpha': 0.001, 'hidden_layer_sizes': (100,), 'learning_rate': 'constant', 'max_iter': 300, 'solver': 'sgd'}\n",
      "Best cross-validation accuracy: 89.91%\n",
      "\n",
      "Validation Set Performance:\n",
      "Validation Accuracy: 63.89%\n",
      "Validation ROC-AUC Score: 0.63\n",
      "\n",
      "Validation Classification Report:\n",
      "              precision    recall  f1-score   support\n",
      "\n",
      "           1       0.64      0.53      0.58        17\n",
      "           5       0.64      0.74      0.68        19\n",
      "\n",
      "    accuracy                           0.64        36\n",
      "   macro avg       0.64      0.63      0.63        36\n",
      "weighted avg       0.64      0.64      0.63        36\n",
      "\n",
      "\n",
      "Test Set Performance:\n",
      "Test Accuracy: 83.33%\n",
      "Test ROC-AUC Score: 0.83\n",
      "\n",
      "Test Classification Report:\n",
      "              precision    recall  f1-score   support\n",
      "\n",
      "           1       0.82      0.82      0.82        17\n",
      "           5       0.84      0.84      0.84        19\n",
      "\n",
      "    accuracy                           0.83        36\n",
      "   macro avg       0.83      0.83      0.83        36\n",
      "weighted avg       0.83      0.83      0.83        36\n",
      "\n"
     ]
    }
   ],
   "source": [
    "train_mlp_1 = pipeline(base_path_1)"
   ]
  },
  {
   "cell_type": "code",
   "execution_count": 8,
   "id": "e658131e",
   "metadata": {
    "ExecuteTime": {
     "end_time": "2024-09-06T12:07:15.172614Z",
     "start_time": "2024-09-06T12:07:00.530245Z"
    }
   },
   "outputs": [
    {
     "name": "stdout",
     "output_type": "stream",
     "text": [
      "Fitting 5 folds for each of 216 candidates, totalling 1080 fits\n",
      "Best parameters found:  {'activation': 'relu', 'alpha': 0.0001, 'hidden_layer_sizes': (50, 50), 'learning_rate': 'constant', 'max_iter': 500, 'solver': 'adam'}\n",
      "Best cross-validation accuracy: 84.29%\n",
      "\n",
      "Validation Set Performance:\n",
      "Validation Accuracy: 88.89%\n",
      "Validation ROC-AUC Score: 0.89\n",
      "\n",
      "Validation Classification Report:\n",
      "              precision    recall  f1-score   support\n",
      "\n",
      "           2       0.89      0.89      0.89        19\n",
      "           5       0.88      0.88      0.88        17\n",
      "\n",
      "    accuracy                           0.89        36\n",
      "   macro avg       0.89      0.89      0.89        36\n",
      "weighted avg       0.89      0.89      0.89        36\n",
      "\n",
      "\n",
      "Test Set Performance:\n",
      "Test Accuracy: 75.00%\n",
      "Test ROC-AUC Score: 0.75\n",
      "\n",
      "Test Classification Report:\n",
      "              precision    recall  f1-score   support\n",
      "\n",
      "           2       0.74      0.78      0.76        18\n",
      "           5       0.76      0.72      0.74        18\n",
      "\n",
      "    accuracy                           0.75        36\n",
      "   macro avg       0.75      0.75      0.75        36\n",
      "weighted avg       0.75      0.75      0.75        36\n",
      "\n"
     ]
    }
   ],
   "source": [
    "train_mlp_2 = pipeline(base_path_2)"
   ]
  },
  {
   "cell_type": "code",
   "execution_count": 9,
   "id": "61a28d9a",
   "metadata": {
    "ExecuteTime": {
     "end_time": "2024-09-06T12:07:30.031854Z",
     "start_time": "2024-09-06T12:07:15.178827Z"
    }
   },
   "outputs": [
    {
     "name": "stdout",
     "output_type": "stream",
     "text": [
      "Fitting 5 folds for each of 216 candidates, totalling 1080 fits\n",
      "Best parameters found:  {'activation': 'tanh', 'alpha': 0.001, 'hidden_layer_sizes': (30, 30, 30), 'learning_rate': 'adaptive', 'max_iter': 200, 'solver': 'sgd'}\n",
      "Best cross-validation accuracy: 82.42%\n",
      "\n",
      "Validation Set Performance:\n",
      "Validation Accuracy: 80.56%\n",
      "Validation ROC-AUC Score: 0.79\n",
      "\n",
      "Validation Classification Report:\n",
      "              precision    recall  f1-score   support\n",
      "\n",
      "           3       0.77      0.71      0.74        14\n",
      "           5       0.83      0.86      0.84        22\n",
      "\n",
      "    accuracy                           0.81        36\n",
      "   macro avg       0.80      0.79      0.79        36\n",
      "weighted avg       0.80      0.81      0.80        36\n",
      "\n",
      "\n",
      "Test Set Performance:\n",
      "Test Accuracy: 66.67%\n",
      "Test ROC-AUC Score: 0.67\n",
      "\n",
      "Test Classification Report:\n",
      "              precision    recall  f1-score   support\n",
      "\n",
      "           3       0.64      0.78      0.70        18\n",
      "           5       0.71      0.56      0.62        18\n",
      "\n",
      "    accuracy                           0.67        36\n",
      "   macro avg       0.68      0.67      0.66        36\n",
      "weighted avg       0.68      0.67      0.66        36\n",
      "\n"
     ]
    }
   ],
   "source": [
    "train_mlp_3 = pipeline(base_path_3)"
   ]
  },
  {
   "cell_type": "code",
   "execution_count": 10,
   "id": "7977411c",
   "metadata": {
    "ExecuteTime": {
     "end_time": "2024-09-06T12:07:44.949793Z",
     "start_time": "2024-09-06T12:07:30.036553Z"
    }
   },
   "outputs": [
    {
     "name": "stdout",
     "output_type": "stream",
     "text": [
      "Fitting 5 folds for each of 216 candidates, totalling 1080 fits\n",
      "Best parameters found:  {'activation': 'tanh', 'alpha': 0.0001, 'hidden_layer_sizes': (50, 50), 'learning_rate': 'constant', 'max_iter': 500, 'solver': 'adam'}\n",
      "Best cross-validation accuracy: 78.61%\n",
      "\n",
      "Validation Set Performance:\n",
      "Validation Accuracy: 77.78%\n",
      "Validation ROC-AUC Score: 0.77\n",
      "\n",
      "Validation Classification Report:\n",
      "              precision    recall  f1-score   support\n",
      "\n",
      "           4       0.73      0.73      0.73        15\n",
      "           5       0.81      0.81      0.81        21\n",
      "\n",
      "    accuracy                           0.78        36\n",
      "   macro avg       0.77      0.77      0.77        36\n",
      "weighted avg       0.78      0.78      0.78        36\n",
      "\n",
      "\n",
      "Test Set Performance:\n",
      "Test Accuracy: 72.22%\n",
      "Test ROC-AUC Score: 0.72\n",
      "\n",
      "Test Classification Report:\n",
      "              precision    recall  f1-score   support\n",
      "\n",
      "           4       0.80      0.73      0.76        22\n",
      "           5       0.62      0.71      0.67        14\n",
      "\n",
      "    accuracy                           0.72        36\n",
      "   macro avg       0.71      0.72      0.71        36\n",
      "weighted avg       0.73      0.72      0.72        36\n",
      "\n"
     ]
    }
   ],
   "source": [
    "train_mlp_4 = pipeline(base_path_4)"
   ]
  }
 ],
 "metadata": {
  "kernelspec": {
   "display_name": "Python 3 (ipykernel)",
   "language": "python",
   "name": "python3"
  },
  "language_info": {
   "codemirror_mode": {
    "name": "ipython",
    "version": 3
   },
   "file_extension": ".py",
   "mimetype": "text/x-python",
   "name": "python",
   "nbconvert_exporter": "python",
   "pygments_lexer": "ipython3",
   "version": "3.12.2"
  }
 },
 "nbformat": 4,
 "nbformat_minor": 5
}
