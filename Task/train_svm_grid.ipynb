{
 "cells": [
  {
   "cell_type": "code",
   "execution_count": 2,
   "id": "c590b669",
   "metadata": {},
   "outputs": [],
   "source": [
    "import sys\n",
    "import os\n",
    "\n",
    "# 프로젝트 최상위 디렉터리를 추가\n",
    "project_path = os.path.abspath(os.path.join(os.getcwd(), '..'))\n",
    "sys.path.append(project_path)"
   ]
  },
  {
   "cell_type": "code",
   "execution_count": 3,
   "id": "initial_id",
   "metadata": {
    "ExecuteTime": {
     "end_time": "2024-09-06T12:32:44.313006Z",
     "start_time": "2024-09-06T12:32:44.307691Z"
    },
    "collapsed": true
   },
   "outputs": [],
   "source": [
    "import mne\n",
    "import numpy as np\n",
    "import pandas as pd\n",
    "from sklearn.preprocessing import StandardScaler\n",
    "from sklearn.svm import SVC\n",
    "from sklearn.model_selection import GridSearchCV\n",
    "from sklearn.metrics import classification_report, accuracy_score, roc_auc_score\n",
    "import matplotlib.pyplot as plt\n",
    "from Preprocessing.feature_extraction import load_eeg_data, compute_band_power, extract_features\n",
    "mne.set_log_level('error')"
   ]
  },
  {
   "cell_type": "code",
   "execution_count": 4,
   "id": "241a152367f5966c",
   "metadata": {
    "ExecuteTime": {
     "end_time": "2024-09-06T12:32:44.324839Z",
     "start_time": "2024-09-06T12:32:44.315289Z"
    }
   },
   "outputs": [],
   "source": [
    "def pipeline(base_path):\n",
    "    train_dir = base_path + 'train4ml.csv'\n",
    "    test_dir = base_path + 'test4ml.csv'\n",
    "    val_dir = base_path + 'val4ml.csv'\n",
    "    data_train, label_train = load_eeg_data(train_dir)\n",
    "    data_val, label_val = load_eeg_data(val_dir)   \n",
    "    data_test, label_test = load_eeg_data(test_dir)\n",
    "    \n",
    "    train_X = data_train\n",
    "    train_y = label_train\n",
    "    val_X = data_val\n",
    "    val_y = label_val\n",
    "    test_X = data_test\n",
    "    test_y = label_test\n",
    "    \n",
    "    # Scaling\n",
    "    scaler = StandardScaler()\n",
    "    train_X = scaler.fit_transform(train_X)\n",
    "    val_X = scaler.transform(val_X)\n",
    "    test_X = scaler.transform(test_X)\n",
    "    \n",
    "    # Train through GridSearchCV\n",
    "    svm = SVC()\n",
    "    param_grid = {\n",
    "        'C': [0.1, 1, 10, 50, 80, 100, 150],  # Reduced range of the regularization parameter\n",
    "        'gamma': ['scale', 0.01, 0.1, 1],  # Key gamma values with a focus on potential sweet spots\n",
    "        'kernel': ['linear', 'rbf'],  # Focus on the most commonly effective kernels\n",
    "        'class_weight': [None, 'balanced'],  # Option to handle imbalanced classes\n",
    "    }\n",
    "\n",
    "    grid_search = GridSearchCV(svm, param_grid, cv=5, scoring='accuracy', verbose=2, n_jobs=-1)\n",
    "    grid_search.fit(train_X, train_y)  # Fit the model on the training data\n",
    "\n",
    "    # Print the best parameters and the best score from the validation process\n",
    "    print(\"Best parameters found: \", grid_search.best_params_)\n",
    "    print(\"Best cross-validation accuracy: {:.2f}%\".format(grid_search.best_score_ * 100))\n",
    "    \n",
    "    # (Validation) Use the best model to make predictions on the validation set\n",
    "    best_model = grid_search.best_estimator_\n",
    "    val_predictions = best_model.predict(val_X)\n",
    "\n",
    "    # Evaluate the model on the validation set\n",
    "    print(\"\\nValidation Set Performance:\")\n",
    "    print(\"Validation Accuracy: {:.2f}%\".format(accuracy_score(val_y, val_predictions) * 100))\n",
    "    print(\"Validation ROC-AUC Score: {:.2f}\".format(roc_auc_score(val_y, val_predictions)))\n",
    "    print(\"\\nValidation Classification Report:\")\n",
    "    print(classification_report(val_y, val_predictions))\n",
    "    \n",
    "    # (Test) After validation, use the best model to predict on the test set\n",
    "    test_predictions = best_model.predict(test_X)\n",
    "\n",
    "    # Evaluate the model on the test set\n",
    "    print(\"\\nTest Set Performance:\")\n",
    "    print(\"Test Accuracy: {:.2f}%\".format(accuracy_score(test_y, test_predictions) * 100))\n",
    "    print(\"Test ROC-AUC Score: {:.2f}\".format(roc_auc_score(test_y, test_predictions)))\n",
    "    print(\"\\nTest Classification Report:\")\n",
    "    print(classification_report(test_y, test_predictions))"
   ]
  },
  {
   "cell_type": "code",
   "execution_count": 5,
   "id": "dd239b6504b6a8de",
   "metadata": {
    "ExecuteTime": {
     "end_time": "2024-09-06T12:32:44.329186Z",
     "start_time": "2024-09-06T12:32:44.326343Z"
    }
   },
   "outputs": [],
   "source": [
    "# Load data\n",
    "base_path_1 = \"G:/공유 드라이브/4N_PKNU/Project/EEG-LLM/Dataset/subject 1 data (k3b)/down sampling X ver/label15/4ml/\"\n",
    "base_path_2 = \"G:/공유 드라이브/4N_PKNU/Project/EEG-LLM/Dataset/subject 1 data (k3b)/down sampling X ver/label25/4ml/\"\n",
    "base_path_3 = \"G:/공유 드라이브/4N_PKNU/Project/EEG-LLM/Dataset/subject 1 data (k3b)/down sampling X ver/label35/4ml/\"\n",
    "base_path_4 = \"G:/공유 드라이브/4N_PKNU/Project/EEG-LLM/Dataset/subject 1 data (k3b)/down sampling X ver/label45/4ml/\""
   ]
  },
  {
   "cell_type": "code",
   "execution_count": 6,
   "id": "75f6213159c9cd29",
   "metadata": {
    "ExecuteTime": {
     "end_time": "2024-09-06T12:32:44.660623Z",
     "start_time": "2024-09-06T12:32:44.331315Z"
    }
   },
   "outputs": [
    {
     "name": "stdout",
     "output_type": "stream",
     "text": [
      "Fitting 5 folds for each of 112 candidates, totalling 560 fits\n",
      "Best parameters found:  {'C': 1, 'class_weight': None, 'gamma': 0.01, 'kernel': 'rbf'}\n",
      "Best cross-validation accuracy: 89.00%\n",
      "\n",
      "Validation Set Performance:\n",
      "Validation Accuracy: 66.67%\n",
      "Validation ROC-AUC Score: 0.66\n",
      "\n",
      "Validation Classification Report:\n",
      "              precision    recall  f1-score   support\n",
      "\n",
      "           1       0.69      0.53      0.60        17\n",
      "           5       0.65      0.79      0.71        19\n",
      "\n",
      "    accuracy                           0.67        36\n",
      "   macro avg       0.67      0.66      0.66        36\n",
      "weighted avg       0.67      0.67      0.66        36\n",
      "\n",
      "\n",
      "Test Set Performance:\n",
      "Test Accuracy: 83.33%\n",
      "Test ROC-AUC Score: 0.83\n",
      "\n",
      "Test Classification Report:\n",
      "              precision    recall  f1-score   support\n",
      "\n",
      "           1       0.82      0.82      0.82        17\n",
      "           5       0.84      0.84      0.84        19\n",
      "\n",
      "    accuracy                           0.83        36\n",
      "   macro avg       0.83      0.83      0.83        36\n",
      "weighted avg       0.83      0.83      0.83        36\n",
      "\n"
     ]
    }
   ],
   "source": [
    "train_svm_1 = pipeline(base_path_1)"
   ]
  },
  {
   "cell_type": "code",
   "execution_count": 7,
   "id": "2534728211237101",
   "metadata": {
    "ExecuteTime": {
     "end_time": "2024-09-06T12:32:45.009478Z",
     "start_time": "2024-09-06T12:32:44.661414Z"
    }
   },
   "outputs": [
    {
     "name": "stdout",
     "output_type": "stream",
     "text": [
      "Fitting 5 folds for each of 112 candidates, totalling 560 fits\n",
      "Best parameters found:  {'C': 1, 'class_weight': None, 'gamma': 0.01, 'kernel': 'rbf'}\n",
      "Best cross-validation accuracy: 83.46%\n",
      "\n",
      "Validation Set Performance:\n",
      "Validation Accuracy: 83.33%\n",
      "Validation ROC-AUC Score: 0.83\n",
      "\n",
      "Validation Classification Report:\n",
      "              precision    recall  f1-score   support\n",
      "\n",
      "           2       0.81      0.89      0.85        19\n",
      "           5       0.87      0.76      0.81        17\n",
      "\n",
      "    accuracy                           0.83        36\n",
      "   macro avg       0.84      0.83      0.83        36\n",
      "weighted avg       0.84      0.83      0.83        36\n",
      "\n",
      "\n",
      "Test Set Performance:\n",
      "Test Accuracy: 86.11%\n",
      "Test ROC-AUC Score: 0.86\n",
      "\n",
      "Test Classification Report:\n",
      "              precision    recall  f1-score   support\n",
      "\n",
      "           2       0.84      0.89      0.86        18\n",
      "           5       0.88      0.83      0.86        18\n",
      "\n",
      "    accuracy                           0.86        36\n",
      "   macro avg       0.86      0.86      0.86        36\n",
      "weighted avg       0.86      0.86      0.86        36\n",
      "\n"
     ]
    }
   ],
   "source": [
    "train_svm_2 = pipeline(base_path_2)"
   ]
  },
  {
   "cell_type": "code",
   "execution_count": 8,
   "id": "423f7b616a7d5b1d",
   "metadata": {
    "ExecuteTime": {
     "end_time": "2024-09-06T12:32:45.514716Z",
     "start_time": "2024-09-06T12:32:45.010195Z"
    }
   },
   "outputs": [
    {
     "name": "stdout",
     "output_type": "stream",
     "text": [
      "Fitting 5 folds for each of 112 candidates, totalling 560 fits\n",
      "Best parameters found:  {'C': 0.1, 'class_weight': None, 'gamma': 'scale', 'kernel': 'linear'}\n",
      "Best cross-validation accuracy: 80.52%\n",
      "\n",
      "Validation Set Performance:\n",
      "Validation Accuracy: 72.22%\n",
      "Validation ROC-AUC Score: 0.72\n",
      "\n",
      "Validation Classification Report:\n",
      "              precision    recall  f1-score   support\n",
      "\n",
      "           3       0.62      0.71      0.67        14\n",
      "           5       0.80      0.73      0.76        22\n",
      "\n",
      "    accuracy                           0.72        36\n",
      "   macro avg       0.71      0.72      0.71        36\n",
      "weighted avg       0.73      0.72      0.72        36\n",
      "\n",
      "\n",
      "Test Set Performance:\n",
      "Test Accuracy: 58.33%\n",
      "Test ROC-AUC Score: 0.58\n",
      "\n",
      "Test Classification Report:\n",
      "              precision    recall  f1-score   support\n",
      "\n",
      "           3       0.56      0.78      0.65        18\n",
      "           5       0.64      0.39      0.48        18\n",
      "\n",
      "    accuracy                           0.58        36\n",
      "   macro avg       0.60      0.58      0.57        36\n",
      "weighted avg       0.60      0.58      0.57        36\n",
      "\n"
     ]
    }
   ],
   "source": [
    "train_svm_3 = pipeline(base_path_3)"
   ]
  },
  {
   "cell_type": "code",
   "execution_count": 9,
   "id": "3b1e6274f6b00621",
   "metadata": {
    "ExecuteTime": {
     "end_time": "2024-09-06T12:32:45.920641Z",
     "start_time": "2024-09-06T12:32:45.515430Z"
    }
   },
   "outputs": [
    {
     "name": "stdout",
     "output_type": "stream",
     "text": [
      "Fitting 5 folds for each of 112 candidates, totalling 560 fits\n",
      "Best parameters found:  {'C': 10, 'class_weight': None, 'gamma': 0.1, 'kernel': 'rbf'}\n",
      "Best cross-validation accuracy: 76.75%\n",
      "\n",
      "Validation Set Performance:\n",
      "Validation Accuracy: 72.22%\n",
      "Validation ROC-AUC Score: 0.70\n",
      "\n",
      "Validation Classification Report:\n",
      "              precision    recall  f1-score   support\n",
      "\n",
      "           4       0.69      0.60      0.64        15\n",
      "           5       0.74      0.81      0.77        21\n",
      "\n",
      "    accuracy                           0.72        36\n",
      "   macro avg       0.72      0.70      0.71        36\n",
      "weighted avg       0.72      0.72      0.72        36\n",
      "\n",
      "\n",
      "Test Set Performance:\n",
      "Test Accuracy: 75.00%\n",
      "Test ROC-AUC Score: 0.77\n",
      "\n",
      "Test Classification Report:\n",
      "              precision    recall  f1-score   support\n",
      "\n",
      "           4       0.88      0.68      0.77        22\n",
      "           5       0.63      0.86      0.73        14\n",
      "\n",
      "    accuracy                           0.75        36\n",
      "   macro avg       0.76      0.77      0.75        36\n",
      "weighted avg       0.78      0.75      0.75        36\n",
      "\n"
     ]
    }
   ],
   "source": [
    "train_svm_4 = pipeline(base_path_4)"
   ]
  }
 ],
 "metadata": {
  "kernelspec": {
   "display_name": "Python 3",
   "language": "python",
   "name": "python3"
  },
  "language_info": {
   "codemirror_mode": {
    "name": "ipython",
    "version": 3
   },
   "file_extension": ".py",
   "mimetype": "text/x-python",
   "name": "python",
   "nbconvert_exporter": "python",
   "pygments_lexer": "ipython3",
   "version": "3.12.2"
  }
 },
 "nbformat": 4,
 "nbformat_minor": 5
}
